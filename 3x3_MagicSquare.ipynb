{
  "nbformat": 4,
  "nbformat_minor": 0,
  "metadata": {
    "colab": {
      "name": "3x3_MagicSquare.ipynb",
      "version": "0.3.2",
      "provenance": []
    },
    "kernelspec": {
      "name": "python3",
      "display_name": "Python 3"
    }
  },
  "cells": [
    {
      "metadata": {
        "id": "3v4W9WwSZsah",
        "colab_type": "code",
        "outputId": "36cb5834-be44-4de5-bb64-43b0bc6f8787",
        "colab": {
          "base_uri": "https://localhost:8080/",
          "height": 34
        }
      },
      "cell_type": "code",
      "source": [
        "!pip install python-constraint"
      ],
      "execution_count": 0,
      "outputs": [
        {
          "output_type": "stream",
          "text": [
            "Requirement already satisfied: python-constraint in /usr/local/lib/python3.6/dist-packages (1.4.0)\n"
          ],
          "name": "stdout"
        }
      ]
    },
    {
      "metadata": {
        "id": "OPqbVNMoZ2wv",
        "colab_type": "code",
        "colab": {}
      },
      "cell_type": "code",
      "source": [
        "from constraint import *"
      ],
      "execution_count": 0,
      "outputs": []
    },
    {
      "metadata": {
        "id": "Uju_5mhfZ8H-",
        "colab_type": "code",
        "colab": {}
      },
      "cell_type": "code",
      "source": [
        "problem = Problem()\n",
        "problem.addVariables(range(0, 9), range(1, 10))\n",
        "problem.addConstraint(AllDifferentConstraint(), range(0,9))\n",
        "problem.addConstraint(ExactSumConstraint(15), [0,4,8])\n",
        "problem.addConstraint(ExactSumConstraint(15), [2,6,6])\n",
        "for row in range(3):\n",
        "    problem.addConstraint(ExactSumConstraint(15),\n",
        "                          [row*3+i for i in range(3)])\n",
        "for col in range(3):\n",
        "    problem.addConstraint(ExactSumConstraint(15),\n",
        "                          [col+3*i for i in range(3)])\n",
        "solutions = problem.getSolutions()"
      ],
      "execution_count": 0,
      "outputs": []
    },
    {
      "metadata": {
        "id": "vRyHJyRNZ83C",
        "colab_type": "code",
        "outputId": "83b74d34-65dd-4646-9a84-ee4cd944f4b2",
        "colab": {
          "base_uri": "https://localhost:8080/",
          "height": 85
        }
      },
      "cell_type": "code",
      "source": [
        "solutions"
      ],
      "execution_count": 0,
      "outputs": [
        {
          "output_type": "execute_result",
          "data": {
            "text/plain": [
              "[{0: 6, 1: 8, 2: 1, 3: 2, 4: 4, 5: 9, 6: 7, 7: 3, 8: 5},\n",
              " {0: 5, 1: 9, 2: 1, 3: 3, 4: 4, 5: 8, 6: 7, 7: 2, 8: 6},\n",
              " {0: 4, 1: 2, 2: 9, 3: 8, 4: 6, 5: 1, 6: 3, 7: 7, 8: 5},\n",
              " {0: 5, 1: 1, 2: 9, 3: 7, 4: 6, 5: 2, 6: 3, 7: 8, 8: 4}]"
            ]
          },
          "metadata": {
            "tags": []
          },
          "execution_count": 4
        }
      ]
    },
    {
      "metadata": {
        "id": "BV0Eag7KZ-GD",
        "colab_type": "code",
        "colab": {}
      },
      "cell_type": "code",
      "source": [
        ""
      ],
      "execution_count": 0,
      "outputs": []
    }
  ]
}